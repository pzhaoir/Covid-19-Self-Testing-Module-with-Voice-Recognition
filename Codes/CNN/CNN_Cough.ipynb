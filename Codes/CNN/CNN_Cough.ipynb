{
  "nbformat": 4,
  "nbformat_minor": 0,
  "metadata": {
    "colab": {
      "name": "CNN_Cough.ipynb",
      "provenance": [],
      "collapsed_sections": []
    },
    "kernelspec": {
      "name": "python3",
      "display_name": "Python 3"
    },
    "language_info": {
      "name": "python"
    },
    "accelerator": "TPU"
  },
  "cells": [
    {
      "cell_type": "code",
      "metadata": {
        "colab": {
          "base_uri": "https://localhost:8080/"
        },
        "id": "V99lKyxU2Maw",
        "outputId": "6cd159b0-6951-4243-98a5-1959261d0d97"
      },
      "source": [
        "from google.colab import drive\n",
        "drive.mount('/content/drive')"
      ],
      "execution_count": null,
      "outputs": [
        {
          "output_type": "stream",
          "text": [
            "Mounted at /content/drive\n"
          ],
          "name": "stdout"
        }
      ]
    },
    {
      "cell_type": "code",
      "metadata": {
        "colab": {
          "base_uri": "https://localhost:8080/"
        },
        "id": "Nd-7hEG16DVU",
        "outputId": "3a4496b3-0972-427d-98bc-2acd71b11647"
      },
      "source": [
        "import pandas as pd\n",
        "import numpy as np\n",
        "from numpy import argmax\n",
        "import matplotlib.pyplot as plt\n",
        "%matplotlib inline\n",
        "import librosa\n",
        "import librosa.display\n",
        "import IPython.display\n",
        "import random\n",
        "import warnings\n",
        "import os\n",
        "from PIL import Image\n",
        "import pathlib\n",
        "import csv\n",
        "# sklearn Preprocessing\n",
        "from sklearn.model_selection import train_test_split\n",
        "#Keras\n",
        "import keras\n",
        "import warnings\n",
        "warnings.filterwarnings('ignore')\n",
        "from keras import layers\n",
        "from keras.layers import Activation, Dense, Dropout, Conv2D, Flatten, MaxPooling2D, GlobalMaxPooling2D, GlobalAveragePooling1D, AveragePooling2D, Input, Add\n",
        "from keras.models import Sequential\n",
        "from tensorflow.keras.optimizers import SGD\n",
        "import librosa\n",
        "import pandas as pd\n",
        "import numpy as np\n",
        "import matplotlib.pyplot as plt\n",
        "%matplotlib inline\n",
        "import os\n",
        "from PIL import Image\n",
        "import pathlib\n",
        "from sklearn.model_selection import train_test_split\n",
        "from sklearn.preprocessing import LabelEncoder, StandardScaler\n",
        "from sklearn import metrics\n",
        "import keras\n",
        "from keras import layers\n",
        "from keras import layers\n",
        "import keras\n",
        "from keras.models import Sequential\n",
        "import warnings\n",
        "warnings.filterwarnings('ignore')\n",
        "import csv\n",
        "import tensorflow as tf\n",
        "import time\n",
        "from sklearn.datasets import make_classification\n",
        "from sklearn.dummy import DummyClassifier\n",
        "from sklearn.linear_model import LogisticRegression\n",
        "from sklearn.model_selection import train_test_split\n",
        "from sklearn.metrics import roc_auc_score\n",
        "\n",
        "\n",
        "\n",
        "\n",
        "import splitfolders\n",
        "# To only split into training and validation set, set a tuple to `ratio`, i.e, `(.8, .2)`.\n",
        "splitfolders.ratio('/content/drive/MyDrive/saved_image', output=\"./data\", seed=1337, ratio=(.8, .2)) # default values\n",
        "\n",
        "from keras.preprocessing.image import ImageDataGenerator\n",
        "train_datagen = ImageDataGenerator(\n",
        "        width_shift_range=0.2,\n",
        "        height_shift_range=0.2,\n",
        "        rescale=1./255, \n",
        "        shear_range=0.2, \n",
        "        zoom_range=0.2, \n",
        "        horizontal_flip=True) \n",
        "test_datagen = ImageDataGenerator(rescale=1./255)\n",
        "\n",
        "\n",
        "test_set = train_datagen.flow_from_directory(\n",
        "        '/content/drive/MyDrive/training_image',\n",
        "        target_size=(128, 128),\n",
        "        batch_size= 8,\n",
        "        class_mode='categorical',\n",
        "        shuffle = False)\n",
        "training_set = test_datagen.flow_from_directory(\n",
        "        '/content/drive/MyDrive/training_image',\n",
        "        target_size= (128, 128),\n",
        "        batch_size= 8,\n",
        "        class_mode='categorical',\n",
        "        shuffle = False)\n",
        "model = Sequential()\n",
        "input_shape=(128, 128, 3)\n",
        "#1st hidden layer\n",
        "model.add(Conv2D(64, (3, 3), strides=(2, 2), input_shape=input_shape))\n",
        "model.add(AveragePooling2D((2, 2), strides=(2,2)))\n",
        "model.add(Activation('relu'))\n",
        "#Flatten\n",
        "model.add(Flatten())\n",
        "model.add(Dropout(rate=0.5))\n",
        "#Add fully connected layer.\n",
        "model.add(Dense(64))\n",
        "model.add(Activation('relu'))\n",
        "model.add(Dropout(rate=0.7))\n",
        "#Output layer\n",
        "model.add(Dense(2))\n",
        "model.add(Activation('softmax'))\n",
        "model.summary()\n",
        "\n",
        "epochs = 100\n",
        "learning_rate = 0.01\n",
        "decay_rate = learning_rate / epochs\n",
        "momentum = 0.9\n",
        "sgd = SGD(lr=learning_rate, momentum=momentum, decay=decay_rate, nesterov=False)\n",
        "model.compile(optimizer=\"sgd\", loss=\"categorical_crossentropy\", metrics=['accuracy'])\n",
        "\n",
        "\n",
        "model.fit_generator(\n",
        "        training_set,\n",
        "        steps_per_epoch= 1,\n",
        "        epochs= 100,\n",
        "        validation_data=training_set,\n",
        "        validation_steps=1)\n",
        "model.evaluate_generator(generator=test_set, steps=1)\n"
      ],
      "execution_count": null,
      "outputs": [
        {
          "output_type": "stream",
          "text": [
            "Copying files: 173 files [00:00, 263.86 files/s]\n"
          ],
          "name": "stderr"
        },
        {
          "output_type": "stream",
          "text": [
            "Found 120 images belonging to 2 classes.\n",
            "Found 120 images belonging to 2 classes.\n",
            "Model: \"sequential_8\"\n",
            "_________________________________________________________________\n",
            "Layer (type)                 Output Shape              Param #   \n",
            "=================================================================\n",
            "conv2d_12 (Conv2D)           (None, 63, 63, 64)        1792      \n",
            "_________________________________________________________________\n",
            "average_pooling2d_12 (Averag (None, 31, 31, 64)        0         \n",
            "_________________________________________________________________\n",
            "activation_28 (Activation)   (None, 31, 31, 64)        0         \n",
            "_________________________________________________________________\n",
            "flatten_8 (Flatten)          (None, 61504)             0         \n",
            "_________________________________________________________________\n",
            "dropout_16 (Dropout)         (None, 61504)             0         \n",
            "_________________________________________________________________\n",
            "dense_16 (Dense)             (None, 64)                3936320   \n",
            "_________________________________________________________________\n",
            "activation_29 (Activation)   (None, 64)                0         \n",
            "_________________________________________________________________\n",
            "dropout_17 (Dropout)         (None, 64)                0         \n",
            "_________________________________________________________________\n",
            "dense_17 (Dense)             (None, 2)                 130       \n",
            "_________________________________________________________________\n",
            "activation_30 (Activation)   (None, 2)                 0         \n",
            "=================================================================\n",
            "Total params: 3,938,242\n",
            "Trainable params: 3,938,242\n",
            "Non-trainable params: 0\n",
            "_________________________________________________________________\n",
            "Epoch 1/100\n",
            "1/1 [==============================] - 1s 1s/step - loss: 0.6392 - accuracy: 0.5000 - val_loss: 5.9159e-04 - val_accuracy: 1.0000\n",
            "Epoch 2/100\n",
            "1/1 [==============================] - 1s 593ms/step - loss: 0.0624 - accuracy: 1.0000 - val_loss: 3.0526e-04 - val_accuracy: 1.0000\n",
            "Epoch 3/100\n",
            "1/1 [==============================] - 1s 594ms/step - loss: 10.1081 - accuracy: 0.0000e+00 - val_loss: 0.6959 - val_accuracy: 0.1250\n",
            "Epoch 4/100\n",
            "1/1 [==============================] - 1s 595ms/step - loss: 0.6939 - accuracy: 0.5000 - val_loss: 0.6560 - val_accuracy: 1.0000\n",
            "Epoch 5/100\n",
            "1/1 [==============================] - 1s 583ms/step - loss: 0.7353 - accuracy: 0.1250 - val_loss: 0.7479 - val_accuracy: 0.0000e+00\n",
            "Epoch 6/100\n",
            "1/1 [==============================] - 1s 577ms/step - loss: 0.7647 - accuracy: 0.3750 - val_loss: 0.6519 - val_accuracy: 1.0000\n",
            "Epoch 7/100\n",
            "1/1 [==============================] - 1s 562ms/step - loss: 0.7356 - accuracy: 0.1250 - val_loss: 0.6862 - val_accuracy: 1.0000\n",
            "Epoch 8/100\n",
            "1/1 [==============================] - 1s 546ms/step - loss: 0.6766 - accuracy: 0.8750 - val_loss: 0.6581 - val_accuracy: 1.0000\n",
            "Epoch 9/100\n",
            "1/1 [==============================] - 1s 551ms/step - loss: 0.7464 - accuracy: 0.1250 - val_loss: 0.6958 - val_accuracy: 0.0000e+00\n",
            "Epoch 10/100\n",
            "1/1 [==============================] - 1s 560ms/step - loss: 0.6940 - accuracy: 0.5000 - val_loss: 0.6799 - val_accuracy: 1.0000\n",
            "Epoch 11/100\n",
            "1/1 [==============================] - 1s 601ms/step - loss: 0.6704 - accuracy: 0.8750 - val_loss: 0.6478 - val_accuracy: 1.0000\n",
            "Epoch 12/100\n",
            "1/1 [==============================] - 1s 659ms/step - loss: 0.7113 - accuracy: 0.3750 - val_loss: 0.6545 - val_accuracy: 1.0000\n",
            "Epoch 13/100\n",
            "1/1 [==============================] - 1s 598ms/step - loss: 0.6429 - accuracy: 1.0000 - val_loss: 0.6123 - val_accuracy: 1.0000\n",
            "Epoch 14/100\n",
            "1/1 [==============================] - 0s 445ms/step - loss: 0.7573 - accuracy: 0.0000e+00 - val_loss: 0.6403 - val_accuracy: 1.0000\n",
            "Epoch 15/100\n",
            "1/1 [==============================] - 1s 568ms/step - loss: 0.6786 - accuracy: 0.6250 - val_loss: 0.6324 - val_accuracy: 1.0000\n",
            "Epoch 16/100\n",
            "1/1 [==============================] - 1s 600ms/step - loss: 0.7569 - accuracy: 0.1250 - val_loss: 0.6677 - val_accuracy: 1.0000\n",
            "Epoch 17/100\n",
            "1/1 [==============================] - 1s 582ms/step - loss: 0.7146 - accuracy: 0.3750 - val_loss: 0.6861 - val_accuracy: 1.0000\n",
            "Epoch 18/100\n",
            "1/1 [==============================] - 1s 590ms/step - loss: 0.6949 - accuracy: 0.7500 - val_loss: 0.6972 - val_accuracy: 0.0000e+00\n",
            "Epoch 19/100\n",
            "1/1 [==============================] - 1s 560ms/step - loss: 0.6943 - accuracy: 0.5000 - val_loss: 0.6849 - val_accuracy: 1.0000\n",
            "Epoch 20/100\n",
            "1/1 [==============================] - 1s 578ms/step - loss: 0.6990 - accuracy: 0.2500 - val_loss: 0.6681 - val_accuracy: 1.0000\n",
            "Epoch 21/100\n",
            "1/1 [==============================] - 1s 585ms/step - loss: 0.6766 - accuracy: 0.7500 - val_loss: 0.6479 - val_accuracy: 1.0000\n",
            "Epoch 22/100\n",
            "1/1 [==============================] - 1s 553ms/step - loss: 0.7493 - accuracy: 0.0000e+00 - val_loss: 0.6770 - val_accuracy: 1.0000\n",
            "Epoch 23/100\n",
            "1/1 [==============================] - 1s 599ms/step - loss: 0.7309 - accuracy: 0.1250 - val_loss: 0.6947 - val_accuracy: 0.2500\n",
            "Epoch 24/100\n",
            "1/1 [==============================] - 1s 616ms/step - loss: 0.6855 - accuracy: 0.8750 - val_loss: 0.7027 - val_accuracy: 0.0000e+00\n",
            "Epoch 25/100\n",
            "1/1 [==============================] - 1s 602ms/step - loss: 0.6905 - accuracy: 0.3750 - val_loss: 0.6896 - val_accuracy: 1.0000\n",
            "Epoch 26/100\n",
            "1/1 [==============================] - 1s 680ms/step - loss: 0.6962 - accuracy: 0.7500 - val_loss: 0.7017 - val_accuracy: 0.0000e+00\n",
            "Epoch 27/100\n",
            "1/1 [==============================] - 1s 587ms/step - loss: 0.6901 - accuracy: 0.7500 - val_loss: 0.7128 - val_accuracy: 0.0000e+00\n",
            "Epoch 28/100\n",
            "1/1 [==============================] - 1s 585ms/step - loss: 0.7137 - accuracy: 0.0000e+00 - val_loss: 0.7050 - val_accuracy: 0.0000e+00\n",
            "Epoch 29/100\n",
            "1/1 [==============================] - 1s 580ms/step - loss: 0.7017 - accuracy: 0.3750 - val_loss: 0.6895 - val_accuracy: 0.8750\n",
            "Epoch 30/100\n",
            "1/1 [==============================] - 1s 593ms/step - loss: 0.6827 - accuracy: 0.7500 - val_loss: 0.6702 - val_accuracy: 1.0000\n",
            "Epoch 31/100\n",
            "1/1 [==============================] - 1s 551ms/step - loss: 0.7063 - accuracy: 0.3750 - val_loss: 0.6910 - val_accuracy: 0.7500\n",
            "Epoch 32/100\n",
            "1/1 [==============================] - 1s 560ms/step - loss: 0.6850 - accuracy: 0.6250 - val_loss: 0.6752 - val_accuracy: 1.0000\n",
            "Epoch 33/100\n",
            "1/1 [==============================] - 1s 571ms/step - loss: 0.6796 - accuracy: 0.6250 - val_loss: 0.6581 - val_accuracy: 1.0000\n",
            "Epoch 34/100\n",
            "1/1 [==============================] - 1s 567ms/step - loss: 0.6596 - accuracy: 1.0000 - val_loss: 0.6416 - val_accuracy: 1.0000\n",
            "Epoch 35/100\n",
            "1/1 [==============================] - 1s 593ms/step - loss: 0.6148 - accuracy: 1.0000 - val_loss: 0.6089 - val_accuracy: 1.0000\n",
            "Epoch 36/100\n",
            "1/1 [==============================] - 1s 563ms/step - loss: 0.7713 - accuracy: 0.0000e+00 - val_loss: 0.6440 - val_accuracy: 1.0000\n",
            "Epoch 37/100\n",
            "1/1 [==============================] - 1s 549ms/step - loss: 0.6328 - accuracy: 1.0000 - val_loss: 0.6255 - val_accuracy: 1.0000\n",
            "Epoch 38/100\n",
            "1/1 [==============================] - 1s 577ms/step - loss: 0.7718 - accuracy: 0.0000e+00 - val_loss: 0.6471 - val_accuracy: 1.0000\n",
            "Epoch 39/100\n",
            "1/1 [==============================] - 1s 576ms/step - loss: 0.7328 - accuracy: 0.0000e+00 - val_loss: 0.6611 - val_accuracy: 1.0000\n",
            "Epoch 40/100\n",
            "1/1 [==============================] - 1s 546ms/step - loss: 0.6541 - accuracy: 0.8750 - val_loss: 0.6467 - val_accuracy: 1.0000\n",
            "Epoch 41/100\n",
            "1/1 [==============================] - 1s 564ms/step - loss: 0.7210 - accuracy: 0.0000e+00 - val_loss: 0.6574 - val_accuracy: 1.0000\n",
            "Epoch 42/100\n",
            "1/1 [==============================] - 1s 558ms/step - loss: 0.6550 - accuracy: 0.7500 - val_loss: 0.6419 - val_accuracy: 1.0000\n",
            "Epoch 43/100\n",
            "1/1 [==============================] - 1s 558ms/step - loss: 0.7523 - accuracy: 0.0000e+00 - val_loss: 0.6599 - val_accuracy: 1.0000\n",
            "Epoch 44/100\n",
            "1/1 [==============================] - 1s 543ms/step - loss: 0.6668 - accuracy: 0.6250 - val_loss: 0.6480 - val_accuracy: 1.0000\n",
            "Epoch 45/100\n",
            "1/1 [==============================] - 1s 541ms/step - loss: 0.7456 - accuracy: 0.0000e+00 - val_loss: 0.6650 - val_accuracy: 1.0000\n",
            "Epoch 46/100\n",
            "1/1 [==============================] - 1s 575ms/step - loss: 0.7352 - accuracy: 0.0000e+00 - val_loss: 0.6812 - val_accuracy: 1.0000\n",
            "Epoch 47/100\n",
            "1/1 [==============================] - 1s 553ms/step - loss: 0.6652 - accuracy: 0.8750 - val_loss: 0.6649 - val_accuracy: 1.0000\n",
            "Epoch 48/100\n",
            "1/1 [==============================] - 1s 569ms/step - loss: 0.6950 - accuracy: 0.5000 - val_loss: 0.6644 - val_accuracy: 1.0000\n",
            "Epoch 49/100\n",
            "1/1 [==============================] - 1s 577ms/step - loss: 0.6376 - accuracy: 0.7500 - val_loss: 0.6476 - val_accuracy: 1.0000\n",
            "Epoch 50/100\n",
            "1/1 [==============================] - 1s 596ms/step - loss: 0.6649 - accuracy: 1.0000 - val_loss: 0.6373 - val_accuracy: 1.0000\n",
            "Epoch 51/100\n",
            "1/1 [==============================] - 1s 600ms/step - loss: 0.6345 - accuracy: 1.0000 - val_loss: 0.6201 - val_accuracy: 1.0000\n",
            "Epoch 52/100\n",
            "1/1 [==============================] - 1s 557ms/step - loss: 0.7627 - accuracy: 0.0000e+00 - val_loss: 0.6390 - val_accuracy: 1.0000\n",
            "Epoch 53/100\n",
            "1/1 [==============================] - 1s 578ms/step - loss: 0.6216 - accuracy: 1.0000 - val_loss: 0.6217 - val_accuracy: 1.0000\n",
            "Epoch 54/100\n",
            "1/1 [==============================] - 1s 608ms/step - loss: 0.7960 - accuracy: 0.0000e+00 - val_loss: 0.6461 - val_accuracy: 1.0000\n",
            "Epoch 55/100\n",
            "1/1 [==============================] - 1s 572ms/step - loss: 0.7247 - accuracy: 0.0000e+00 - val_loss: 0.6570 - val_accuracy: 1.0000\n",
            "Epoch 56/100\n",
            "1/1 [==============================] - 1s 581ms/step - loss: 0.7101 - accuracy: 0.2500 - val_loss: 0.6654 - val_accuracy: 1.0000\n",
            "Epoch 57/100\n",
            "1/1 [==============================] - 1s 599ms/step - loss: 0.7331 - accuracy: 0.3750 - val_loss: 0.6801 - val_accuracy: 1.0000\n",
            "Epoch 58/100\n",
            "1/1 [==============================] - 1s 592ms/step - loss: 0.6928 - accuracy: 0.3750 - val_loss: 0.6707 - val_accuracy: 1.0000\n",
            "Epoch 59/100\n",
            "1/1 [==============================] - 1s 570ms/step - loss: 0.6997 - accuracy: 0.6250 - val_loss: 0.6798 - val_accuracy: 1.0000\n",
            "Epoch 60/100\n",
            "1/1 [==============================] - 1s 578ms/step - loss: 0.6921 - accuracy: 0.6250 - val_loss: 0.6887 - val_accuracy: 1.0000\n",
            "Epoch 61/100\n",
            "1/1 [==============================] - 1s 549ms/step - loss: 0.6983 - accuracy: 0.5000 - val_loss: 0.6992 - val_accuracy: 0.1250\n",
            "Epoch 62/100\n",
            "1/1 [==============================] - 1s 566ms/step - loss: 0.6797 - accuracy: 0.7500 - val_loss: 0.7080 - val_accuracy: 0.0000e+00\n",
            "Epoch 63/100\n",
            "1/1 [==============================] - 1s 539ms/step - loss: 0.7171 - accuracy: 0.1250 - val_loss: 0.6988 - val_accuracy: 0.1250\n",
            "Epoch 64/100\n",
            "1/1 [==============================] - 1s 567ms/step - loss: 0.6841 - accuracy: 0.7500 - val_loss: 0.7080 - val_accuracy: 0.0000e+00\n",
            "Epoch 65/100\n",
            "1/1 [==============================] - 1s 550ms/step - loss: 0.6746 - accuracy: 1.0000 - val_loss: 0.7161 - val_accuracy: 0.0000e+00\n",
            "Epoch 66/100\n",
            "1/1 [==============================] - 1s 540ms/step - loss: 0.6688 - accuracy: 1.0000 - val_loss: 0.7264 - val_accuracy: 0.0000e+00\n",
            "Epoch 67/100\n",
            "1/1 [==============================] - 1s 563ms/step - loss: 0.6544 - accuracy: 1.0000 - val_loss: 0.7324 - val_accuracy: 0.0000e+00\n",
            "Epoch 68/100\n",
            "1/1 [==============================] - 1s 537ms/step - loss: 0.7359 - accuracy: 0.0000e+00 - val_loss: 0.7249 - val_accuracy: 0.0000e+00\n",
            "Epoch 69/100\n",
            "1/1 [==============================] - 1s 551ms/step - loss: 0.7269 - accuracy: 0.0000e+00 - val_loss: 0.7188 - val_accuracy: 0.0000e+00\n",
            "Epoch 70/100\n",
            "1/1 [==============================] - 1s 553ms/step - loss: 0.6673 - accuracy: 1.0000 - val_loss: 0.7254 - val_accuracy: 0.0000e+00\n",
            "Epoch 71/100\n",
            "1/1 [==============================] - 1s 549ms/step - loss: 0.6579 - accuracy: 1.0000 - val_loss: 0.7334 - val_accuracy: 0.0000e+00\n",
            "Epoch 72/100\n",
            "1/1 [==============================] - 1s 559ms/step - loss: 0.7359 - accuracy: 0.0000e+00 - val_loss: 0.7260 - val_accuracy: 0.0000e+00\n",
            "Epoch 73/100\n",
            "1/1 [==============================] - 1s 546ms/step - loss: 0.7295 - accuracy: 0.0000e+00 - val_loss: 0.7186 - val_accuracy: 0.0000e+00\n",
            "Epoch 74/100\n",
            "1/1 [==============================] - 1s 533ms/step - loss: 0.6650 - accuracy: 1.0000 - val_loss: 0.7260 - val_accuracy: 0.0000e+00\n",
            "Epoch 75/100\n",
            "1/1 [==============================] - 1s 563ms/step - loss: 0.6617 - accuracy: 1.0000 - val_loss: 0.7320 - val_accuracy: 0.0000e+00\n",
            "Epoch 76/100\n",
            "1/1 [==============================] - 1s 580ms/step - loss: 0.6508 - accuracy: 1.0000 - val_loss: 0.7387 - val_accuracy: 0.0000e+00\n",
            "Epoch 77/100\n",
            "1/1 [==============================] - 1s 566ms/step - loss: 0.6471 - accuracy: 1.0000 - val_loss: 0.7454 - val_accuracy: 0.0000e+00\n",
            "Epoch 78/100\n",
            "1/1 [==============================] - 1s 540ms/step - loss: 0.6446 - accuracy: 1.0000 - val_loss: 0.7514 - val_accuracy: 0.0000e+00\n",
            "Epoch 79/100\n",
            "1/1 [==============================] - 1s 567ms/step - loss: 0.7481 - accuracy: 0.0000e+00 - val_loss: 0.7434 - val_accuracy: 0.0000e+00\n",
            "Epoch 80/100\n",
            "1/1 [==============================] - 1s 552ms/step - loss: 0.7389 - accuracy: 0.0000e+00 - val_loss: 0.7348 - val_accuracy: 0.0000e+00\n",
            "Epoch 81/100\n",
            "1/1 [==============================] - 1s 544ms/step - loss: 0.6534 - accuracy: 1.0000 - val_loss: 0.7434 - val_accuracy: 0.0000e+00\n",
            "Epoch 82/100\n",
            "1/1 [==============================] - 1s 551ms/step - loss: 0.6438 - accuracy: 1.0000 - val_loss: 0.7492 - val_accuracy: 0.0000e+00\n",
            "Epoch 83/100\n",
            "1/1 [==============================] - 1s 549ms/step - loss: 0.7501 - accuracy: 0.0000e+00 - val_loss: 0.7393 - val_accuracy: 0.0000e+00\n",
            "Epoch 84/100\n",
            "1/1 [==============================] - 1s 554ms/step - loss: 0.6485 - accuracy: 1.0000 - val_loss: 0.7469 - val_accuracy: 0.0000e+00\n",
            "Epoch 85/100\n",
            "1/1 [==============================] - 1s 548ms/step - loss: 0.7436 - accuracy: 0.0000e+00 - val_loss: 0.7383 - val_accuracy: 0.0000e+00\n",
            "Epoch 86/100\n",
            "1/1 [==============================] - 1s 576ms/step - loss: 0.7404 - accuracy: 0.0000e+00 - val_loss: 0.7315 - val_accuracy: 0.0000e+00\n",
            "Epoch 87/100\n",
            "1/1 [==============================] - 1s 564ms/step - loss: 0.7293 - accuracy: 0.0000e+00 - val_loss: 0.7223 - val_accuracy: 0.0000e+00\n",
            "Epoch 88/100\n",
            "1/1 [==============================] - 1s 551ms/step - loss: 0.7219 - accuracy: 0.1250 - val_loss: 0.7098 - val_accuracy: 0.0000e+00\n",
            "Epoch 89/100\n",
            "1/1 [==============================] - 1s 593ms/step - loss: 0.7037 - accuracy: 0.2500 - val_loss: 0.7009 - val_accuracy: 0.1250\n",
            "Epoch 90/100\n",
            "1/1 [==============================] - 1s 571ms/step - loss: 0.6987 - accuracy: 0.5000 - val_loss: 0.6863 - val_accuracy: 0.7500\n",
            "Epoch 91/100\n",
            "1/1 [==============================] - 1s 557ms/step - loss: 0.6697 - accuracy: 0.7500 - val_loss: 0.6679 - val_accuracy: 1.0000\n",
            "Epoch 92/100\n",
            "1/1 [==============================] - 1s 566ms/step - loss: 0.6611 - accuracy: 0.6250 - val_loss: 0.6491 - val_accuracy: 1.0000\n",
            "Epoch 93/100\n",
            "1/1 [==============================] - 1s 546ms/step - loss: 0.7249 - accuracy: 0.2500 - val_loss: 0.6707 - val_accuracy: 1.0000\n",
            "Epoch 94/100\n",
            "1/1 [==============================] - 1s 545ms/step - loss: 0.7240 - accuracy: 0.2500 - val_loss: 0.6922 - val_accuracy: 0.5000\n",
            "Epoch 95/100\n",
            "1/1 [==============================] - 1s 554ms/step - loss: 0.6890 - accuracy: 0.8750 - val_loss: 0.7025 - val_accuracy: 0.1250\n",
            "Epoch 96/100\n",
            "1/1 [==============================] - 1s 575ms/step - loss: 0.6914 - accuracy: 0.3750 - val_loss: 0.7018 - val_accuracy: 0.1250\n",
            "Epoch 97/100\n",
            "1/1 [==============================] - 1s 553ms/step - loss: 0.6886 - accuracy: 0.5000 - val_loss: 0.7125 - val_accuracy: 0.0000e+00\n",
            "Epoch 98/100\n",
            "1/1 [==============================] - 1s 578ms/step - loss: 0.6858 - accuracy: 0.7500 - val_loss: 0.7103 - val_accuracy: 0.0000e+00\n",
            "Epoch 99/100\n",
            "1/1 [==============================] - 1s 580ms/step - loss: 0.6978 - accuracy: 0.6250 - val_loss: 0.6965 - val_accuracy: 0.2500\n",
            "Epoch 100/100\n",
            "1/1 [==============================] - 1s 565ms/step - loss: 0.6995 - accuracy: 0.2500 - val_loss: 0.6872 - val_accuracy: 0.6250\n"
          ],
          "name": "stdout"
        },
        {
          "output_type": "execute_result",
          "data": {
            "text/plain": [
              "[0.6919167637825012, 0.5]"
            ]
          },
          "metadata": {},
          "execution_count": 44
        }
      ]
    },
    {
      "cell_type": "code",
      "metadata": {
        "id": "ftDLrNTVIPJV"
      },
      "source": [
        ""
      ],
      "execution_count": null,
      "outputs": []
    },
    {
      "cell_type": "code",
      "metadata": {
        "id": "OZ3Ajqv_DwRG",
        "colab": {
          "base_uri": "https://localhost:8080/"
        },
        "outputId": "99e129e7-461d-4f99-c2c6-db69d33d13b8"
      },
      "source": [
        "pip install split_folders"
      ],
      "execution_count": null,
      "outputs": [
        {
          "output_type": "stream",
          "text": [
            "Requirement already satisfied: split_folders in /usr/local/lib/python3.7/dist-packages (0.4.3)\n"
          ],
          "name": "stdout"
        }
      ]
    },
    {
      "cell_type": "code",
      "metadata": {
        "colab": {
          "base_uri": "https://localhost:8080/"
        },
        "id": "_7X55KUg1Lnb",
        "outputId": "9331374c-2f99-45d1-9238-6b68d9ddd708"
      },
      "source": [
        "prediction = train_datagen.flow_from_directory(\n",
        "        '/content/drive/MyDrive/Prediction/cough',\n",
        "        target_size=(32, 32),\n",
        "        batch_size= 8,\n",
        "        class_mode='categorical',\n",
        "        shuffle = False)"
      ],
      "execution_count": null,
      "outputs": [
        {
          "output_type": "stream",
          "text": [
            "Found 2 images belonging to 3 classes.\n"
          ],
          "name": "stdout"
        }
      ]
    },
    {
      "cell_type": "code",
      "metadata": {
        "colab": {
          "base_uri": "https://localhost:8080/"
        },
        "id": "SE5yDYpRoW2_",
        "outputId": "91865762-ceac-4ca3-ab3c-139e76dc08e9"
      },
      "source": [
        "test_set.reset()\n",
        "pred = model.predict_generator(test_set, steps=15, verbose=1)\n",
        "predicted_class_indices=np.argmax(pred,axis=1)\n",
        "\n",
        "labels = (training_set.class_indices)\n",
        "labels = dict((v,k) for k,v in labels.items())\n",
        "predictions = [labels[k] for k in predicted_class_indices]\n",
        "predictions = predictions[:200]\n",
        "filenames=test_set.filenames\n",
        "results=pd.DataFrame({\"Filename\":filenames,\n",
        "                      \"Predictions\":predictions})\n",
        "print(labels)\n",
        "print(results)\n",
        "TestAcc=[]\n",
        "for index, row in results.iterrows():\n",
        "  if row['Predictions'] in row['Filename']:\n",
        "    TestAcc.append(1)\n",
        "  else:\n",
        "    TestAcc.append(0)\n",
        "\n",
        "print('test accuracy:'+str(np.mean(TestAcc)))"
      ],
      "execution_count": null,
      "outputs": [
        {
          "output_type": "stream",
          "text": [
            "15/15 [==============================] - 3s 182ms/step\n",
            "{0: 'negative', 1: 'positive'}\n",
            "                          Filename Predictions\n",
            "0      negative/0bccough-heavy.png    negative\n",
            "1    negative/0bccough-shallow.png    positive\n",
            "2       negative/cough-heavy10.png    positive\n",
            "3       negative/cough-heavy11.png    negative\n",
            "4       negative/cough-heavy12.png    negative\n",
            "..                             ...         ...\n",
            "115                 positive/6.png    positive\n",
            "116                positive/60.png    positive\n",
            "117                 positive/7.png    positive\n",
            "118                 positive/8.png    positive\n",
            "119                 positive/9.png    positive\n",
            "\n",
            "[120 rows x 2 columns]\n",
            "test accuracy:0.6333333333333333\n"
          ],
          "name": "stdout"
        }
      ]
    },
    {
      "cell_type": "code",
      "metadata": {
        "colab": {
          "base_uri": "https://localhost:8080/",
          "height": 34
        },
        "id": "3pk1RjrlDuKv",
        "outputId": "f0467279-9d05-4d88-acb6-ee28940f801c"
      },
      "source": [
        "import librosa\n",
        "import pandas as pd\n",
        "import numpy as np\n",
        "import matplotlib.pyplot as plt\n",
        "%matplotlib inline\n",
        "import os\n",
        "from PIL import Image\n",
        "import pathlib\n",
        "from sklearn.model_selection import train_test_split\n",
        "from sklearn.preprocessing import LabelEncoder, StandardScaler\n",
        "import keras\n",
        "from keras import layers\n",
        "from keras import layers\n",
        "import keras\n",
        "from keras.models import Sequential\n",
        "import warnings\n",
        "warnings.filterwarnings('ignore')\n",
        "import csv\n",
        "\n",
        "cmap = plt.get_cmap('inferno')\n",
        "plt.figure(figsize=(8,8))\n",
        "cough = 'negative positive'.split()\n",
        "for c in cough:\n",
        "    pathlib.Path(f'saved_image/{c}').mkdir(parents=True, exist_ok=True)\n",
        "    for filename in os.listdir(f'./drive/MyDrive/cough/{c}'):\n",
        "        songname = f'./drive/MyDrive/cough/{c}/{filename}'\n",
        "        y, sr = librosa.load(songname, sr=48000,mono=True, duration=5)\n",
        "        plt.specgram(y, NFFT=2048, Fs=2, Fc=0, noverlap=128, cmap=cmap, sides='default', mode='default', scale='dB');\n",
        "        plt.axis('off');\n",
        "        plt.savefig(f'saved_image/{c}/{filename[:-3].replace(\".\", \"\")}.png')\n",
        "        plt.clf()"
      ],
      "execution_count": null,
      "outputs": [
        {
          "output_type": "display_data",
          "data": {
            "text/plain": [
              "<Figure size 576x576 with 0 Axes>"
            ]
          },
          "metadata": {
            "tags": []
          }
        }
      ]
    },
    {
      "cell_type": "code",
      "metadata": {
        "colab": {
          "base_uri": "https://localhost:8080/"
        },
        "id": "unU1cZCM9tdm",
        "outputId": "a71e0b19-7060-44a7-ffa2-e122837acaa6"
      },
      "source": [
        "test_set.reset()\n",
        "pred = model.predict_generator(test_set, steps=22, verbose=1)\n",
        "predicted_class_indices=np.argmax(pred,axis=1)\n",
        "\n",
        "labels = (training_set.class_indices)\n",
        "labels = dict((v,k) for k,v in labels.items())\n",
        "predictions = [labels[k] for k in predicted_class_indices]\n",
        "predictions = predictions[:200]\n",
        "filenames=test_set.filenames\n",
        "results=pd.DataFrame({\"Filename\":filenames,\n",
        "                      \"Predictions\":predictions})\n",
        "print(labels)\n",
        "print(results)"
      ],
      "execution_count": null,
      "outputs": [
        {
          "output_type": "stream",
          "text": [
            "22/22 [==============================] - 3s 135ms/step\n",
            "{0: 'negative', 1: 'positive'}\n",
            "                          Filename Predictions\n",
            "0      negative/0bccough-heavy.png    positive\n",
            "1    negative/0bccough-shallow.png    positive\n",
            "2      negative/2zAcough-heavy.png    negative\n",
            "3    negative/2zAcough-shallow.png    negative\n",
            "4      negative/LEIcough-heavy.png    negative\n",
            "..                             ...         ...\n",
            "168    positive/cough-shallow5.png    positive\n",
            "169    positive/cough-shallow6.png    positive\n",
            "170    positive/cough-shallow7.png    positive\n",
            "171    positive/cough-shallow8.png    positive\n",
            "172    positive/cough-shallow9.png    positive\n",
            "\n",
            "[173 rows x 2 columns]\n"
          ],
          "name": "stdout"
        }
      ]
    },
    {
      "cell_type": "code",
      "metadata": {
        "colab": {
          "base_uri": "https://localhost:8080/"
        },
        "id": "-vausLVXIDeL",
        "outputId": "3b993c2e-54b0-48f7-9a24-35fbcf9cb29a"
      },
      "source": [
        "]"
      ],
      "execution_count": null,
      "outputs": [
        {
          "output_type": "stream",
          "text": [
            "test accuracy:0.5433526011560693\n"
          ],
          "name": "stdout"
        }
      ]
    }
  ]
}